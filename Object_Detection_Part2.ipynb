{
 "cells": [
  {
   "cell_type": "code",
   "execution_count": 2,
   "metadata": {},
   "outputs": [],
   "source": [
    "import numpy as np\n",
    "import os\n",
    "import argparse\n",
    "import cv2\n",
    "from imutils import paths\n",
    "import json\n",
    "import glob\n",
    "import xml.etree.ElementTree as Et\n",
    "from sklearn.model_selection import train_test_split\n",
    "from bs4 import BeautifulSoup\n",
    "import requests\n",
    "import time\n",
    "import pandas as pd\n",
    "import shutil\n",
    "\n",
    "#Selenium components\n",
    "import selenium\n",
    "from selenium import webdriver\n",
    "from selenium.webdriver.common.keys import Keys\n",
    "from selenium.webdriver.common.by import By\n",
    "from selenium.webdriver.support.ui import WebDriverWait\n",
    "from selenium.webdriver.support import expected_conditions as EC\n",
    "from selenium.common.exceptions import TimeoutException"
   ]
  },
  {
   "cell_type": "markdown",
   "metadata": {},
   "source": [
    "## Converting XML to CSV"
   ]
  },
  {
   "cell_type": "code",
   "execution_count": 12,
   "metadata": {},
   "outputs": [],
   "source": [
    "def xml_to_csv(path): #check your xml file structure to make sure you are correctly pointing to the filename, width, etc\n",
    "    xml_list = []\n",
    "    for xml_file in glob.glob(path + '/*.xml'):\n",
    "        tree = Et.parse(xml_file)\n",
    "        root = tree.getroot()\n",
    "        for member in root.findall('object'):\n",
    "            value = (root.find('filename').text,  # filename\n",
    "                     int(root.find('size')[0].text),  # width\n",
    "                     int(root.find('size')[1].text),  # height\n",
    "                     member[0].text,  # class\n",
    "                     int(member[5][0].text),  # xmin\n",
    "                     int(member[5][1].text),  # ymin\n",
    "                     int(member[5][2].text),  # xmax\n",
    "                     int(member[5][3].text),  # ymax\n",
    "                     )\n",
    "            xml_list.append(value)\n",
    "    column_name = ['filename', 'width', 'height', 'class', 'xmin', 'ymin', 'xmax', 'ymax']\n",
    "    xml_df = pd.DataFrame(xml_list, columns=column_name)\n",
    "    return xml_df"
   ]
  },
  {
   "cell_type": "code",
   "execution_count": 13,
   "metadata": {},
   "outputs": [],
   "source": [
    "def main():\n",
    "    for directory in ['train','test']:\n",
    "        image_path = os.path.join(os.getcwd(), images_path +'{}'.format(directory))\n",
    "        xml_df = xml_to_csv(image_path)\n",
    "        xml_df.to_csv('./models/research/object_detection/data_label/{}_labels.csv'.format(directory), index=None)\n",
    "        print('Successfully converted xml to csv.')\n"
   ]
  },
  {
   "cell_type": "code",
   "execution_count": 14,
   "metadata": {},
   "outputs": [
    {
     "name": "stdout",
     "output_type": "stream",
     "text": [
      "Successfully converted xml to csv.\n",
      "Successfully converted xml to csv.\n"
     ]
    }
   ],
   "source": [
    "main() #This will convert the dataframe to csv"
   ]
  },
  {
   "cell_type": "markdown",
   "metadata": {},
   "source": [
    "# Generating TF_Records"
   ]
  },
  {
   "cell_type": "code",
   "execution_count": 28,
   "metadata": {},
   "outputs": [],
   "source": [
    "# Adapted from\n",
    "# https://github.com/datitran/raccoon_dataset/blob/master/generate_tfrecord.py\n",
    "\n",
    "from __future__ import division\n",
    "from __future__ import print_function\n",
    "from __future__ import absolute_import\n",
    "\n",
    "import tensorflow as tf\n",
    "import io\n",
    "\n",
    "from PIL import Image\n",
    "from models.research.object_detection.utils import dataset_util\n",
    "from collections import namedtuple, OrderedDict\n"
   ]
  },
  {
   "cell_type": "code",
   "execution_count": 29,
   "metadata": {},
   "outputs": [],
   "source": [
    "# Add more class labels as needed, make sure to start at 1\n",
    "def class_text_to_int(row_label):\n",
    "    if row_label == 'huracan':\n",
    "        return 1\n",
    "    if row_label == 'gallardo':\n",
    "        return 2\n",
    "    if row_label == 'aventador':\n",
    "        return 3\n",
    "    if row_label == 'murcielago':\n",
    "        return 4\n",
    "    else:\n",
    "        None"
   ]
  },
  {
   "cell_type": "code",
   "execution_count": 30,
   "metadata": {},
   "outputs": [],
   "source": [
    "data_path = \"./models/research/object_detection/data/\""
   ]
  },
  {
   "cell_type": "code",
   "execution_count": 31,
   "metadata": {},
   "outputs": [],
   "source": [
    "def split(df, group):\n",
    "    data = namedtuple('data', ['filename', 'object'])\n",
    "    gb = df.groupby(group)\n",
    "    return [data(filename, gb.get_group(x)) for filename, x in zip(gb.groups.keys(), gb.groups)]"
   ]
  },
  {
   "cell_type": "code",
   "execution_count": 32,
   "metadata": {},
   "outputs": [],
   "source": [
    "def create_tf_example(group, path):\n",
    "    with tf.gfile.GFile(os.path.join(path, '{}'.format(group.filename)), 'rb') as fid:\n",
    "        encoded_jpg = fid.read()\n",
    "    encoded_jpg_io = io.BytesIO(encoded_jpg)\n",
    "    image = Image.open(encoded_jpg_io)\n",
    "    width, height = image.size\n",
    "\n",
    "    filename = group.filename.encode('utf8')\n",
    "    image_format = b'jpg'\n",
    "    xmins = []\n",
    "    xmaxs = []\n",
    "    ymins = []\n",
    "    ymaxs = []\n",
    "    classes_text = []\n",
    "    classes = []\n",
    "\n",
    "    for index, row in group.object.iterrows():\n",
    "        xmins.append(row['xmin'] / width)\n",
    "        xmaxs.append(row['xmax'] / width)\n",
    "        ymins.append(row['ymin'] / height)\n",
    "        ymaxs.append(row['ymax'] / height)\n",
    "        classes_text.append(row['class'].encode('utf8'))\n",
    "        classes.append(class_text_to_int(row['class']))\n",
    "\n",
    "    tf_example = tf.train.Example(features=tf.train.Features(feature={\n",
    "        'image/height': dataset_util.int64_feature(height),\n",
    "        'image/width': dataset_util.int64_feature(width),\n",
    "        'image/filename': dataset_util.bytes_feature(filename),\n",
    "        'image/source_id': dataset_util.bytes_feature(filename),\n",
    "        'image/encoded': dataset_util.bytes_feature(encoded_jpg),\n",
    "        'image/format': dataset_util.bytes_feature(image_format),\n",
    "        'image/object/bbox/xmin': dataset_util.float_list_feature(xmins),\n",
    "        'image/object/bbox/xmax': dataset_util.float_list_feature(xmaxs),\n",
    "        'image/object/bbox/ymin': dataset_util.float_list_feature(ymins),\n",
    "        'image/object/bbox/ymax': dataset_util.float_list_feature(ymaxs),\n",
    "        'image/object/class/text': dataset_util.bytes_list_feature(classes_text),\n",
    "    }))\n",
    "    return tf_example"
   ]
  },
  {
   "cell_type": "code",
   "execution_count": 33,
   "metadata": {},
   "outputs": [],
   "source": [
    "def main():\n",
    "    for i in ['test', 'train']:\n",
    "        writer = tf.python_io.TFRecordWriter(data_path+i+'.record')\n",
    "        path = os.path.join(os.getcwd(),'./models/research/object_detection/images/'+i+'/' )\n",
    "        examples = pd.read_csv('./models/research/object_detection/data_label/'+i+'_labels'+'.csv')\n",
    "        grouped = split(examples, 'filename')\n",
    "        for group in grouped:\n",
    "            tf_example = create_tf_example(group, path)\n",
    "            writer.write(tf_example.SerializeToString())\n",
    "        writer.close()\n",
    "        print('Successfully created the '+i+ ' TFRecords')"
   ]
  },
  {
   "cell_type": "code",
   "execution_count": 34,
   "metadata": {},
   "outputs": [
    {
     "name": "stdout",
     "output_type": "stream",
     "text": [
      "Successfully created the test TFRecords\n",
      "Successfully created the train TFRecords\n"
     ]
    }
   ],
   "source": [
    "main()"
   ]
  },
  {
   "cell_type": "markdown",
   "metadata": {},
   "source": [
    "## Great! Your Tf_records should be created, lets check"
   ]
  },
  {
   "cell_type": "code",
   "execution_count": 35,
   "metadata": {
    "scrolled": true
   },
   "outputs": [
    {
     "data": {
      "text/plain": [
       "['mscoco_label_map.pbtxt',\n",
       " 'events.out.tfevents.1530915204.Brians-MacBook-Pro-2.local',\n",
       " 'events.out.tfevents.1530916614.Brians-MacBook-Pro-2.local',\n",
       " '.DS_Store',\n",
       " 'checkpoint',\n",
       " 'events.out.tfevents.1530915997.Brians-MacBook-Pro-2.local',\n",
       " 'events.out.tfevents.1530917111.Brians-MacBook-Pro-2.local',\n",
       " 'train.record',\n",
       " 'lambo_detection.pbtxt',\n",
       " 'oid_object_detection_challenge_500_label_map.pbtxt',\n",
       " 'events.out.tfevents.1530915300.Brians-MacBook-Pro-2.local',\n",
       " 'pipeline.config',\n",
       " 'ssd_mobilenet_v1_coco.config',\n",
       " 'model.ckpt-0.data-00000-of-00001',\n",
       " 'graph.pbtxt',\n",
       " 'kitti_label_map.pbtxt',\n",
       " 'pascal_label_map.pbtxt',\n",
       " 'test.record',\n",
       " 'model.ckpt-0.index',\n",
       " 'oid_bbox_trainable_label_map.pbtxt',\n",
       " 'ava_label_map_v2.1.pbtxt',\n",
       " 'model.ckpt-0.meta']"
      ]
     },
     "execution_count": 35,
     "metadata": {},
     "output_type": "execute_result"
    }
   ],
   "source": [
    "os.listdir(data_path)"
   ]
  },
  {
   "cell_type": "markdown",
   "metadata": {},
   "source": [
    "# The next steps are in part 3"
   ]
  },
  {
   "cell_type": "code",
   "execution_count": null,
   "metadata": {},
   "outputs": [],
   "source": []
  }
 ],
 "metadata": {
  "kernelspec": {
   "display_name": "Python 3",
   "language": "python",
   "name": "python3"
  },
  "language_info": {
   "codemirror_mode": {
    "name": "ipython",
    "version": 3
   },
   "file_extension": ".py",
   "mimetype": "text/x-python",
   "name": "python",
   "nbconvert_exporter": "python",
   "pygments_lexer": "ipython3",
   "version": "3.6.5"
  }
 },
 "nbformat": 4,
 "nbformat_minor": 2
}
