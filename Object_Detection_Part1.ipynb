{
 "cells": [
  {
   "cell_type": "code",
   "execution_count": 1,
   "metadata": {
    "collapsed": true
   },
   "outputs": [],
   "source": [
    "import numpy as np\n",
    "import os\n",
    "import argparse\n",
    "# import cv2\n",
    "# from imutils import paths\n",
    "import json\n",
    "import glob\n",
    "import xml.etree.ElementTree as Et\n",
    "from sklearn.model_selection import train_test_split\n",
    "from bs4 import BeautifulSoup\n",
    "import requests\n",
    "import time\n",
    "import pandas as pd\n",
    "import shutil\n",
    "\n",
    "# #Selenium components\n",
    "# import selenium\n",
    "# from selenium import webdriver\n",
    "# from selenium.webdriver.common.keys import Keys\n",
    "# from selenium.webdriver.common.by import By\n",
    "# from selenium.webdriver.support.ui import WebDriverWait\n",
    "# from selenium.webdriver.support import expected_conditions as EC\n",
    "# from selenium.common.exceptions import TimeoutException"
   ]
  },
  {
   "cell_type": "code",
   "execution_count": 10,
   "metadata": {
    "collapsed": true
   },
   "outputs": [],
   "source": [
    "def photo_labeler(image_folder):\n",
    "    if len(os.listdir(image_folder)) == 1:\n",
    "        start_num = 0\n",
    "    else:\n",
    "        num = []\n",
    "        for x in os.listdir(image_folder):\n",
    "            if x == '.DS_Store' or x == 'annotations':\n",
    "                pass\n",
    "            else:\n",
    "                num.append(int(x[:-4]))\n",
    "        start_num = max(num)\n",
    "    return start_num\n",
    "\n",
    "def photo_downloader(num_photos):\n",
    "    print(\"Downloading of ~{} photos commencing in...\".format(len(photo_urls)))\n",
    "    print('three')\n",
    "    time.sleep(1)\n",
    "    print('two')\n",
    "    time.sleep(1)\n",
    "    print('one')\n",
    "    #loop through the URLs\n",
    "    for url in photo_urls: #you can change this to read in csv file from above \n",
    "        try:\n",
    "            # try to download the image\n",
    "            r = requests.get(url, timeout=30) #navigate to page, allot 30 seconds to download photo before skipping\n",
    "\n",
    "            # save the image to disk\n",
    "            p = os.path.sep.join([image_folder, \"{}.jpg\".format(str(num_photos).zfill(8))]) #join image name and file path to save at\n",
    "            f = open(p, \"wb\")\n",
    "            f.write(r.content)\n",
    "            f.close()\n",
    "\n",
    "            #update the counter and print \n",
    "            print(\"[INFO] downloaded: {}\".format(p))\n",
    "            num_photos += 1\n",
    "\n",
    "        # handle if any exceptions are thrown during the download process\n",
    "        except:\n",
    "            print(\"[INFO] error downloading {}...skipping\".format(p))\n",
    "\n",
    "    print('downloaded a total of {} photos'.format(num_photos))"
   ]
  },
  {
   "cell_type": "code",
   "execution_count": 36,
   "metadata": {},
   "outputs": [
    {
     "name": "stdout",
     "output_type": "stream",
     "text": [
      "Cloning into 'models'...\n",
      "remote: Counting objects: 19848, done.\u001b[K\n",
      "remote: Compressing objects: 100% (60/60), done.\u001b[K\n",
      "remote: Total 19848 (delta 28), reused 41 (delta 12), pack-reused 19771\u001b[K\n",
      "Receiving objects: 100% (19848/19848), 471.42 MiB | 50.59 MiB/s, done.\n",
      "Resolving deltas: 100% (11645/11645), done.\n",
      "Checking connectivity... done.\n",
      "Checking out files: 100% (2966/2966), done.\n"
     ]
    }
   ],
   "source": [
    "!git clone https://github.com/tensorflow/models.git #clone down Tensorflow repository"
   ]
  },
  {
   "cell_type": "markdown",
   "metadata": {},
   "source": [
    "# Our workflow for this notebook will be as follows:\n",
    "\n",
    "## Search Google for images with Selenium -> retrieve URLs with Selenium -> save URLs -> download photos from URLs -> label *images* -> split images into *train* and *test* -> convert XML to CSV files -> create TF_Records"
   ]
  },
  {
   "cell_type": "code",
   "execution_count": 6,
   "metadata": {
    "scrolled": false
   },
   "outputs": [
    {
     "name": "stdout",
     "output_type": "stream",
     "text": [
      "huracan, lamborghini\n"
     ]
    }
   ],
   "source": [
    "search_terms = str(input())"
   ]
  },
  {
   "cell_type": "code",
   "execution_count": 7,
   "metadata": {
    "collapsed": true,
    "scrolled": true
   },
   "outputs": [],
   "source": [
    "url = 'https://images.google.com/?gws_rd=ssl'\n",
    "\n",
    "driver = webdriver.Chrome() #set driver as Chrome\n",
    "driver.get(url)# open the web page in the browser:\n",
    "search_bar = driver.find_element_by_xpath('//*[@id=\"lst-ib\"]') # selects search bar\n",
    "search_bar.send_keys(search_terms) # types in search terms from above\n",
    "click = driver.find_element_by_xpath('//*[@id=\"mKlEF\"]') #selects the search button\n",
    "click.click()#\"clicks\" on the search button\n",
    "\n",
    "# Search for medium images only\n",
    "driver.find_element_by_xpath('//*[@id=\"hdtb-tls\"]').click()\n",
    "time.sleep(0.5)\n",
    "driver.find_element_by_xpath('//*[@id=\"hdtbMenus\"]/div/div[2]').click()\n",
    "time.sleep(0.2)\n",
    "driver.find_element_by_xpath('//*[@id=\"isz_m\"]/a').click()\n",
    "time.sleep(1)\n",
    "\n",
    "\n",
    "\n",
    "driver.execute_script(\"window.scrollTo(0,document.body.scrollHeight);\") #page down command to load more photos\n",
    "time.sleep(0.5)\n",
    "driver.execute_script(\"window.scrollTo(0,document.body.scrollHeight);\") #page down command to load more photos\n",
    "time.sleep(0.5)\n",
    "driver.execute_script(\"window.scrollTo(0,document.body.scrollHeight);\") #page down command to load more photos\n",
    "time.sleep(0.5)\n",
    "driver.execute_script(\"window.scrollTo(0,document.body.scrollHeight);\") #page down command to load more photos\n",
    "time.sleep(0.5)\n",
    "driver.execute_script(\"window.scrollTo(0,document.body.scrollHeight);\") #page down command to load more photos\n",
    "time.sleep(0.5)\n",
    "\n",
    "try:\n",
    "    driver.find_element_by_xpath('//*[@id=\"smb\"]').click()\n",
    "except:\n",
    "    pass\n",
    "\n",
    "driver.execute_script(\"window.scrollTo(0,document.body.scrollHeight);\") #page down command to load more photos\n",
    "time.sleep(0.5)\n",
    "driver.execute_script(\"window.scrollTo(0,document.body.scrollHeight);\") #page down command to load more photos\n",
    "time.sleep(0.5)\n",
    "driver.execute_script(\"window.scrollTo(0,document.body.scrollHeight);\") #page down command to load more photos\n",
    "time.sleep(0.5)\n",
    "driver.execute_script(\"window.scrollTo(0,document.body.scrollHeight);\") #page down command to load more photos\n",
    "time.sleep(0.5)\n",
    "driver.execute_script(\"window.scrollTo(0,document.body.scrollHeight);\") #page down command to load more photos\n",
    "\n",
    "\n",
    "photo_urls = driver.find_elements_by_class_name(\"rg_meta\") #finds photos on the page\n",
    "\n",
    "photo_urls = [BeautifulSoup(i.get_attribute('innerHTML'), 'lxml') for i in photo_urls] #returns html for each photo as JSON\n",
    "\n",
    "photo_urls = [json.loads(_.text) for _ in photo_urls] #parses the JSON\n",
    "\n",
    "photo_urls = [(d[\"ou\"]) for d in photo_urls] #selects the url text\n",
    "\n",
    "photo_df = pd.DataFrame(photo_urls, columns=['urls']) #converts urls to text, this can be exported as \"test_urls\"\n",
    "\n",
    "driver.close() #closes chrome so it doesn't stay running in background\n",
    "driver.close() #closes chrome so it doesn't stay running in background"
   ]
  },
  {
   "cell_type": "code",
   "execution_count": 1,
   "metadata": {
    "collapsed": true
   },
   "outputs": [],
   "source": [
    "!mkdir ./models/research/object_detection/data_label #make a folder to put our csv file in"
   ]
  },
  {
   "cell_type": "code",
   "execution_count": 51,
   "metadata": {
    "collapsed": true
   },
   "outputs": [],
   "source": [
    "photo_df.to_csv('./models/research/object_detection/data_label/aventador_urls.csv') #save photo to csv for backup"
   ]
  },
  {
   "cell_type": "markdown",
   "metadata": {},
   "source": [
    "### Downloading our photos from the Dataframe"
   ]
  },
  {
   "cell_type": "code",
   "execution_count": 6,
   "metadata": {
    "collapsed": true
   },
   "outputs": [],
   "source": [
    "!mkdir ./models/research/object_detection/images #make an images folder"
   ]
  },
  {
   "cell_type": "code",
   "execution_count": 13,
   "metadata": {
    "collapsed": true
   },
   "outputs": [],
   "source": [
    "image_folder = './models/research/object_detection/data_label'"
   ]
  },
  {
   "cell_type": "code",
   "execution_count": null,
   "metadata": {
    "collapsed": true
   },
   "outputs": [],
   "source": [
    "file_name = 'not_lambos.csv'\n",
    "\n",
    "if file_name in os.listdir(image_folder):\n",
    "    photo_df.to_csv(path_or_buf=('./image_urls/'+file_name),header=False,mode='a') #append to csv\n",
    "else:\n",
    "    photo_df.to_csv(path_or_buf=('./image_urls/'+file_name))"
   ]
  },
  {
   "cell_type": "code",
   "execution_count": 53,
   "metadata": {
    "scrolled": true
   },
   "outputs": [
    {
     "name": "stdout",
     "output_type": "stream",
     "text": [
      "Downloading of ~400 photos commencing in...\n",
      "3\n",
      "2\n",
      "1\n",
      "[INFO] downloaded: ./models/research/object_detection/images//00001197.jpg\n",
      "[INFO] downloaded: ./models/research/object_detection/images//00001198.jpg\n",
      "[INFO] downloaded: ./models/research/object_detection/images//00001199.jpg\n",
      "[INFO] downloaded: ./models/research/object_detection/images//00001200.jpg\n",
      "[INFO] downloaded: ./models/research/object_detection/images//00001201.jpg\n",
      "[INFO] downloaded: ./models/research/object_detection/images//00001202.jpg\n",
      "[INFO] downloaded: ./models/research/object_detection/images//00001203.jpg\n",
      "[INFO] downloaded: ./models/research/object_detection/images//00001204.jpg\n",
      "[INFO] downloaded: ./models/research/object_detection/images//00001205.jpg\n",
      "[INFO] downloaded: ./models/research/object_detection/images//00001206.jpg\n",
      "[INFO] downloaded: ./models/research/object_detection/images//00001207.jpg\n",
      "[INFO] downloaded: ./models/research/object_detection/images//00001208.jpg\n",
      "[INFO] downloaded: ./models/research/object_detection/images//00001209.jpg\n",
      "[INFO] downloaded: ./models/research/object_detection/images//00001210.jpg\n",
      "[INFO] downloaded: ./models/research/object_detection/images//00001211.jpg\n",
      "[INFO] downloaded: ./models/research/object_detection/images//00001212.jpg\n",
      "[INFO] downloaded: ./models/research/object_detection/images//00001213.jpg\n",
      "[INFO] downloaded: ./models/research/object_detection/images//00001214.jpg\n",
      "[INFO] downloaded: ./models/research/object_detection/images//00001215.jpg\n",
      "[INFO] downloaded: ./models/research/object_detection/images//00001216.jpg\n",
      "[INFO] downloaded: ./models/research/object_detection/images//00001217.jpg\n",
      "[INFO] downloaded: ./models/research/object_detection/images//00001218.jpg\n",
      "[INFO] downloaded: ./models/research/object_detection/images//00001219.jpg\n",
      "[INFO] downloaded: ./models/research/object_detection/images//00001220.jpg\n",
      "[INFO] downloaded: ./models/research/object_detection/images//00001221.jpg\n",
      "[INFO] downloaded: ./models/research/object_detection/images//00001222.jpg\n",
      "[INFO] downloaded: ./models/research/object_detection/images//00001223.jpg\n",
      "[INFO] downloaded: ./models/research/object_detection/images//00001224.jpg\n",
      "[INFO] downloaded: ./models/research/object_detection/images//00001225.jpg\n",
      "[INFO] downloaded: ./models/research/object_detection/images//00001226.jpg\n",
      "[INFO] downloaded: ./models/research/object_detection/images//00001227.jpg\n",
      "[INFO] downloaded: ./models/research/object_detection/images//00001228.jpg\n",
      "[INFO] downloaded: ./models/research/object_detection/images//00001229.jpg\n",
      "[INFO] downloaded: ./models/research/object_detection/images//00001230.jpg\n",
      "[INFO] downloaded: ./models/research/object_detection/images//00001231.jpg\n",
      "[INFO] downloaded: ./models/research/object_detection/images//00001232.jpg\n",
      "[INFO] downloaded: ./models/research/object_detection/images//00001233.jpg\n",
      "[INFO] downloaded: ./models/research/object_detection/images//00001234.jpg\n",
      "[INFO] downloaded: ./models/research/object_detection/images//00001235.jpg\n",
      "[INFO] downloaded: ./models/research/object_detection/images//00001236.jpg\n",
      "[INFO] downloaded: ./models/research/object_detection/images//00001237.jpg\n",
      "[INFO] downloaded: ./models/research/object_detection/images//00001238.jpg\n",
      "[INFO] downloaded: ./models/research/object_detection/images//00001239.jpg\n",
      "[INFO] downloaded: ./models/research/object_detection/images//00001240.jpg\n",
      "[INFO] downloaded: ./models/research/object_detection/images//00001241.jpg\n",
      "[INFO] downloaded: ./models/research/object_detection/images//00001242.jpg\n",
      "[INFO] downloaded: ./models/research/object_detection/images//00001243.jpg\n",
      "[INFO] downloaded: ./models/research/object_detection/images//00001244.jpg\n",
      "[INFO] downloaded: ./models/research/object_detection/images//00001245.jpg\n",
      "[INFO] downloaded: ./models/research/object_detection/images//00001246.jpg\n",
      "[INFO] downloaded: ./models/research/object_detection/images//00001247.jpg\n",
      "[INFO] downloaded: ./models/research/object_detection/images//00001248.jpg\n",
      "[INFO] downloaded: ./models/research/object_detection/images//00001249.jpg\n",
      "[INFO] downloaded: ./models/research/object_detection/images//00001250.jpg\n",
      "[INFO] downloaded: ./models/research/object_detection/images//00001251.jpg\n",
      "[INFO] downloaded: ./models/research/object_detection/images//00001252.jpg\n",
      "[INFO] downloaded: ./models/research/object_detection/images//00001253.jpg\n",
      "[INFO] downloaded: ./models/research/object_detection/images//00001254.jpg\n",
      "[INFO] downloaded: ./models/research/object_detection/images//00001255.jpg\n",
      "[INFO] downloaded: ./models/research/object_detection/images//00001256.jpg\n",
      "[INFO] downloaded: ./models/research/object_detection/images//00001257.jpg\n",
      "[INFO] downloaded: ./models/research/object_detection/images//00001258.jpg\n",
      "[INFO] downloaded: ./models/research/object_detection/images//00001259.jpg\n",
      "[INFO] downloaded: ./models/research/object_detection/images//00001260.jpg\n",
      "[INFO] downloaded: ./models/research/object_detection/images//00001261.jpg\n",
      "[INFO] downloaded: ./models/research/object_detection/images//00001262.jpg\n",
      "[INFO] downloaded: ./models/research/object_detection/images//00001263.jpg\n",
      "[INFO] downloaded: ./models/research/object_detection/images//00001264.jpg\n",
      "[INFO] downloaded: ./models/research/object_detection/images//00001265.jpg\n",
      "[INFO] downloaded: ./models/research/object_detection/images//00001266.jpg\n",
      "[INFO] downloaded: ./models/research/object_detection/images//00001267.jpg\n",
      "[INFO] downloaded: ./models/research/object_detection/images//00001268.jpg\n",
      "[INFO] downloaded: ./models/research/object_detection/images//00001269.jpg\n",
      "[INFO] downloaded: ./models/research/object_detection/images//00001270.jpg\n",
      "[INFO] downloaded: ./models/research/object_detection/images//00001271.jpg\n",
      "[INFO] downloaded: ./models/research/object_detection/images//00001272.jpg\n",
      "[INFO] downloaded: ./models/research/object_detection/images//00001273.jpg\n",
      "[INFO] downloaded: ./models/research/object_detection/images//00001274.jpg\n",
      "[INFO] downloaded: ./models/research/object_detection/images//00001275.jpg\n",
      "[INFO] downloaded: ./models/research/object_detection/images//00001276.jpg\n",
      "[INFO] downloaded: ./models/research/object_detection/images//00001277.jpg\n",
      "[INFO] downloaded: ./models/research/object_detection/images//00001278.jpg\n",
      "[INFO] downloaded: ./models/research/object_detection/images//00001279.jpg\n",
      "[INFO] downloaded: ./models/research/object_detection/images//00001280.jpg\n",
      "[INFO] downloaded: ./models/research/object_detection/images//00001281.jpg\n",
      "[INFO] downloaded: ./models/research/object_detection/images//00001282.jpg\n",
      "[INFO] downloaded: ./models/research/object_detection/images//00001283.jpg\n",
      "[INFO] downloaded: ./models/research/object_detection/images//00001284.jpg\n",
      "[INFO] downloaded: ./models/research/object_detection/images//00001285.jpg\n",
      "[INFO] downloaded: ./models/research/object_detection/images//00001286.jpg\n",
      "[INFO] downloaded: ./models/research/object_detection/images//00001287.jpg\n",
      "[INFO] downloaded: ./models/research/object_detection/images//00001288.jpg\n",
      "[INFO] downloaded: ./models/research/object_detection/images//00001289.jpg\n",
      "[INFO] downloaded: ./models/research/object_detection/images//00001290.jpg\n",
      "[INFO] downloaded: ./models/research/object_detection/images//00001291.jpg\n",
      "[INFO] downloaded: ./models/research/object_detection/images//00001292.jpg\n",
      "[INFO] downloaded: ./models/research/object_detection/images//00001293.jpg\n",
      "[INFO] downloaded: ./models/research/object_detection/images//00001294.jpg\n",
      "[INFO] downloaded: ./models/research/object_detection/images//00001295.jpg\n",
      "[INFO] downloaded: ./models/research/object_detection/images//00001296.jpg\n",
      "[INFO] downloaded: ./models/research/object_detection/images//00001297.jpg\n",
      "[INFO] downloaded: ./models/research/object_detection/images//00001298.jpg\n",
      "[INFO] downloaded: ./models/research/object_detection/images//00001299.jpg\n",
      "[INFO] downloaded: ./models/research/object_detection/images//00001300.jpg\n",
      "[INFO] downloaded: ./models/research/object_detection/images//00001301.jpg\n",
      "[INFO] downloaded: ./models/research/object_detection/images//00001302.jpg\n",
      "[INFO] downloaded: ./models/research/object_detection/images//00001303.jpg\n",
      "[INFO] downloaded: ./models/research/object_detection/images//00001304.jpg\n",
      "[INFO] downloaded: ./models/research/object_detection/images//00001305.jpg\n",
      "[INFO] downloaded: ./models/research/object_detection/images//00001306.jpg\n"
     ]
    },
    {
     "name": "stdout",
     "output_type": "stream",
     "text": [
      "[INFO] downloaded: ./models/research/object_detection/images//00001307.jpg\n",
      "[INFO] downloaded: ./models/research/object_detection/images//00001308.jpg\n",
      "[INFO] downloaded: ./models/research/object_detection/images//00001309.jpg\n",
      "[INFO] downloaded: ./models/research/object_detection/images//00001310.jpg\n",
      "[INFO] downloaded: ./models/research/object_detection/images//00001311.jpg\n",
      "[INFO] downloaded: ./models/research/object_detection/images//00001312.jpg\n",
      "[INFO] downloaded: ./models/research/object_detection/images//00001313.jpg\n",
      "[INFO] downloaded: ./models/research/object_detection/images//00001314.jpg\n",
      "[INFO] downloaded: ./models/research/object_detection/images//00001315.jpg\n",
      "[INFO] downloaded: ./models/research/object_detection/images//00001316.jpg\n",
      "[INFO] downloaded: ./models/research/object_detection/images//00001317.jpg\n",
      "[INFO] downloaded: ./models/research/object_detection/images//00001318.jpg\n",
      "[INFO] downloaded: ./models/research/object_detection/images//00001319.jpg\n",
      "[INFO] downloaded: ./models/research/object_detection/images//00001320.jpg\n",
      "[INFO] downloaded: ./models/research/object_detection/images//00001321.jpg\n",
      "[INFO] downloaded: ./models/research/object_detection/images//00001322.jpg\n",
      "[INFO] downloaded: ./models/research/object_detection/images//00001323.jpg\n",
      "[INFO] downloaded: ./models/research/object_detection/images//00001324.jpg\n",
      "[INFO] downloaded: ./models/research/object_detection/images//00001325.jpg\n",
      "[INFO] downloaded: ./models/research/object_detection/images//00001326.jpg\n",
      "[INFO] downloaded: ./models/research/object_detection/images//00001327.jpg\n",
      "[INFO] downloaded: ./models/research/object_detection/images//00001328.jpg\n",
      "[INFO] downloaded: ./models/research/object_detection/images//00001329.jpg\n",
      "[INFO] downloaded: ./models/research/object_detection/images//00001330.jpg\n",
      "[INFO] downloaded: ./models/research/object_detection/images//00001331.jpg\n",
      "[INFO] downloaded: ./models/research/object_detection/images//00001332.jpg\n",
      "[INFO] downloaded: ./models/research/object_detection/images//00001333.jpg\n",
      "[INFO] downloaded: ./models/research/object_detection/images//00001334.jpg\n",
      "[INFO] downloaded: ./models/research/object_detection/images//00001335.jpg\n",
      "[INFO] downloaded: ./models/research/object_detection/images//00001336.jpg\n",
      "[INFO] downloaded: ./models/research/object_detection/images//00001337.jpg\n",
      "[INFO] downloaded: ./models/research/object_detection/images//00001338.jpg\n",
      "[INFO] downloaded: ./models/research/object_detection/images//00001339.jpg\n",
      "[INFO] downloaded: ./models/research/object_detection/images//00001340.jpg\n",
      "[INFO] downloaded: ./models/research/object_detection/images//00001341.jpg\n",
      "[INFO] downloaded: ./models/research/object_detection/images//00001342.jpg\n",
      "[INFO] downloaded: ./models/research/object_detection/images//00001343.jpg\n",
      "[INFO] downloaded: ./models/research/object_detection/images//00001344.jpg\n",
      "[INFO] downloaded: ./models/research/object_detection/images//00001345.jpg\n",
      "[INFO] downloaded: ./models/research/object_detection/images//00001346.jpg\n",
      "[INFO] downloaded: ./models/research/object_detection/images//00001347.jpg\n",
      "[INFO] downloaded: ./models/research/object_detection/images//00001348.jpg\n",
      "[INFO] downloaded: ./models/research/object_detection/images//00001349.jpg\n",
      "[INFO] downloaded: ./models/research/object_detection/images//00001350.jpg\n",
      "[INFO] downloaded: ./models/research/object_detection/images//00001351.jpg\n",
      "[INFO] downloaded: ./models/research/object_detection/images//00001352.jpg\n",
      "[INFO] downloaded: ./models/research/object_detection/images//00001353.jpg\n",
      "[INFO] downloaded: ./models/research/object_detection/images//00001354.jpg\n",
      "[INFO] downloaded: ./models/research/object_detection/images//00001355.jpg\n",
      "[INFO] downloaded: ./models/research/object_detection/images//00001356.jpg\n",
      "[INFO] downloaded: ./models/research/object_detection/images//00001357.jpg\n",
      "[INFO] downloaded: ./models/research/object_detection/images//00001358.jpg\n",
      "[INFO] downloaded: ./models/research/object_detection/images//00001359.jpg\n",
      "[INFO] downloaded: ./models/research/object_detection/images//00001360.jpg\n",
      "[INFO] downloaded: ./models/research/object_detection/images//00001361.jpg\n",
      "[INFO] downloaded: ./models/research/object_detection/images//00001362.jpg\n",
      "[INFO] downloaded: ./models/research/object_detection/images//00001363.jpg\n",
      "[INFO] downloaded: ./models/research/object_detection/images//00001364.jpg\n",
      "[INFO] downloaded: ./models/research/object_detection/images//00001365.jpg\n",
      "[INFO] downloaded: ./models/research/object_detection/images//00001366.jpg\n",
      "[INFO] downloaded: ./models/research/object_detection/images//00001367.jpg\n",
      "[INFO] downloaded: ./models/research/object_detection/images//00001368.jpg\n",
      "[INFO] downloaded: ./models/research/object_detection/images//00001369.jpg\n",
      "[INFO] downloaded: ./models/research/object_detection/images//00001370.jpg\n",
      "[INFO] downloaded: ./models/research/object_detection/images//00001371.jpg\n",
      "[INFO] downloaded: ./models/research/object_detection/images//00001372.jpg\n",
      "[INFO] downloaded: ./models/research/object_detection/images//00001373.jpg\n",
      "[INFO] downloaded: ./models/research/object_detection/images//00001374.jpg\n",
      "[INFO] downloaded: ./models/research/object_detection/images//00001375.jpg\n",
      "[INFO] downloaded: ./models/research/object_detection/images//00001376.jpg\n",
      "[INFO] downloaded: ./models/research/object_detection/images//00001377.jpg\n",
      "[INFO] downloaded: ./models/research/object_detection/images//00001378.jpg\n",
      "[INFO] downloaded: ./models/research/object_detection/images//00001379.jpg\n",
      "[INFO] downloaded: ./models/research/object_detection/images//00001380.jpg\n",
      "[INFO] downloaded: ./models/research/object_detection/images//00001381.jpg\n",
      "[INFO] downloaded: ./models/research/object_detection/images//00001382.jpg\n",
      "[INFO] downloaded: ./models/research/object_detection/images//00001383.jpg\n",
      "[INFO] downloaded: ./models/research/object_detection/images//00001384.jpg\n",
      "[INFO] downloaded: ./models/research/object_detection/images//00001385.jpg\n",
      "[INFO] downloaded: ./models/research/object_detection/images//00001386.jpg\n",
      "[INFO] downloaded: ./models/research/object_detection/images//00001387.jpg\n",
      "[INFO] downloaded: ./models/research/object_detection/images//00001388.jpg\n",
      "[INFO] downloaded: ./models/research/object_detection/images//00001389.jpg\n",
      "[INFO] error downloading ./models/research/object_detection/images//00001389.jpg...skipping\n",
      "[INFO] downloaded: ./models/research/object_detection/images//00001390.jpg\n",
      "[INFO] downloaded: ./models/research/object_detection/images//00001391.jpg\n",
      "[INFO] downloaded: ./models/research/object_detection/images//00001392.jpg\n",
      "[INFO] downloaded: ./models/research/object_detection/images//00001393.jpg\n",
      "[INFO] downloaded: ./models/research/object_detection/images//00001394.jpg\n",
      "[INFO] downloaded: ./models/research/object_detection/images//00001395.jpg\n",
      "[INFO] downloaded: ./models/research/object_detection/images//00001396.jpg\n",
      "[INFO] downloaded: ./models/research/object_detection/images//00001397.jpg\n",
      "[INFO] downloaded: ./models/research/object_detection/images//00001398.jpg\n",
      "[INFO] downloaded: ./models/research/object_detection/images//00001399.jpg\n",
      "[INFO] downloaded: ./models/research/object_detection/images//00001400.jpg\n",
      "[INFO] downloaded: ./models/research/object_detection/images//00001401.jpg\n",
      "[INFO] downloaded: ./models/research/object_detection/images//00001402.jpg\n",
      "[INFO] downloaded: ./models/research/object_detection/images//00001403.jpg\n",
      "[INFO] downloaded: ./models/research/object_detection/images//00001404.jpg\n",
      "[INFO] downloaded: ./models/research/object_detection/images//00001405.jpg\n",
      "[INFO] downloaded: ./models/research/object_detection/images//00001406.jpg\n",
      "[INFO] downloaded: ./models/research/object_detection/images//00001407.jpg\n",
      "[INFO] downloaded: ./models/research/object_detection/images//00001408.jpg\n",
      "[INFO] downloaded: ./models/research/object_detection/images//00001409.jpg\n",
      "[INFO] downloaded: ./models/research/object_detection/images//00001410.jpg\n",
      "[INFO] downloaded: ./models/research/object_detection/images//00001411.jpg\n",
      "[INFO] downloaded: ./models/research/object_detection/images//00001412.jpg\n",
      "[INFO] downloaded: ./models/research/object_detection/images//00001413.jpg\n",
      "[INFO] downloaded: ./models/research/object_detection/images//00001414.jpg\n",
      "[INFO] downloaded: ./models/research/object_detection/images//00001415.jpg\n"
     ]
    },
    {
     "name": "stdout",
     "output_type": "stream",
     "text": [
      "[INFO] downloaded: ./models/research/object_detection/images//00001416.jpg\n",
      "[INFO] downloaded: ./models/research/object_detection/images//00001417.jpg\n",
      "[INFO] downloaded: ./models/research/object_detection/images//00001418.jpg\n",
      "[INFO] downloaded: ./models/research/object_detection/images//00001419.jpg\n",
      "[INFO] downloaded: ./models/research/object_detection/images//00001420.jpg\n",
      "[INFO] downloaded: ./models/research/object_detection/images//00001421.jpg\n",
      "[INFO] downloaded: ./models/research/object_detection/images//00001422.jpg\n",
      "[INFO] downloaded: ./models/research/object_detection/images//00001423.jpg\n",
      "[INFO] downloaded: ./models/research/object_detection/images//00001424.jpg\n",
      "[INFO] downloaded: ./models/research/object_detection/images//00001425.jpg\n",
      "[INFO] downloaded: ./models/research/object_detection/images//00001426.jpg\n",
      "[INFO] downloaded: ./models/research/object_detection/images//00001427.jpg\n",
      "[INFO] downloaded: ./models/research/object_detection/images//00001428.jpg\n",
      "[INFO] downloaded: ./models/research/object_detection/images//00001429.jpg\n",
      "[INFO] downloaded: ./models/research/object_detection/images//00001430.jpg\n",
      "[INFO] downloaded: ./models/research/object_detection/images//00001431.jpg\n",
      "[INFO] downloaded: ./models/research/object_detection/images//00001432.jpg\n",
      "[INFO] downloaded: ./models/research/object_detection/images//00001433.jpg\n",
      "[INFO] downloaded: ./models/research/object_detection/images//00001434.jpg\n",
      "[INFO] downloaded: ./models/research/object_detection/images//00001435.jpg\n",
      "[INFO] downloaded: ./models/research/object_detection/images//00001436.jpg\n",
      "[INFO] downloaded: ./models/research/object_detection/images//00001437.jpg\n",
      "[INFO] downloaded: ./models/research/object_detection/images//00001438.jpg\n",
      "[INFO] downloaded: ./models/research/object_detection/images//00001439.jpg\n",
      "[INFO] downloaded: ./models/research/object_detection/images//00001440.jpg\n",
      "[INFO] downloaded: ./models/research/object_detection/images//00001441.jpg\n",
      "[INFO] downloaded: ./models/research/object_detection/images//00001442.jpg\n",
      "[INFO] downloaded: ./models/research/object_detection/images//00001443.jpg\n",
      "[INFO] downloaded: ./models/research/object_detection/images//00001444.jpg\n",
      "[INFO] downloaded: ./models/research/object_detection/images//00001445.jpg\n",
      "[INFO] downloaded: ./models/research/object_detection/images//00001446.jpg\n",
      "[INFO] downloaded: ./models/research/object_detection/images//00001447.jpg\n",
      "[INFO] downloaded: ./models/research/object_detection/images//00001448.jpg\n",
      "[INFO] downloaded: ./models/research/object_detection/images//00001449.jpg\n",
      "[INFO] downloaded: ./models/research/object_detection/images//00001450.jpg\n",
      "[INFO] downloaded: ./models/research/object_detection/images//00001451.jpg\n",
      "[INFO] downloaded: ./models/research/object_detection/images//00001452.jpg\n",
      "[INFO] downloaded: ./models/research/object_detection/images//00001453.jpg\n",
      "[INFO] downloaded: ./models/research/object_detection/images//00001454.jpg\n",
      "[INFO] downloaded: ./models/research/object_detection/images//00001455.jpg\n",
      "[INFO] downloaded: ./models/research/object_detection/images//00001456.jpg\n",
      "[INFO] downloaded: ./models/research/object_detection/images//00001457.jpg\n",
      "[INFO] downloaded: ./models/research/object_detection/images//00001458.jpg\n",
      "[INFO] downloaded: ./models/research/object_detection/images//00001459.jpg\n",
      "[INFO] downloaded: ./models/research/object_detection/images//00001460.jpg\n",
      "[INFO] downloaded: ./models/research/object_detection/images//00001461.jpg\n",
      "[INFO] downloaded: ./models/research/object_detection/images//00001462.jpg\n",
      "[INFO] downloaded: ./models/research/object_detection/images//00001463.jpg\n",
      "[INFO] downloaded: ./models/research/object_detection/images//00001464.jpg\n",
      "[INFO] downloaded: ./models/research/object_detection/images//00001465.jpg\n",
      "[INFO] downloaded: ./models/research/object_detection/images//00001466.jpg\n",
      "[INFO] downloaded: ./models/research/object_detection/images//00001467.jpg\n",
      "[INFO] downloaded: ./models/research/object_detection/images//00001468.jpg\n",
      "[INFO] downloaded: ./models/research/object_detection/images//00001469.jpg\n",
      "[INFO] downloaded: ./models/research/object_detection/images//00001470.jpg\n",
      "[INFO] downloaded: ./models/research/object_detection/images//00001471.jpg\n",
      "[INFO] downloaded: ./models/research/object_detection/images//00001472.jpg\n",
      "[INFO] downloaded: ./models/research/object_detection/images//00001473.jpg\n",
      "[INFO] downloaded: ./models/research/object_detection/images//00001474.jpg\n",
      "[INFO] downloaded: ./models/research/object_detection/images//00001475.jpg\n",
      "[INFO] downloaded: ./models/research/object_detection/images//00001476.jpg\n",
      "[INFO] downloaded: ./models/research/object_detection/images//00001477.jpg\n",
      "[INFO] downloaded: ./models/research/object_detection/images//00001478.jpg\n",
      "[INFO] downloaded: ./models/research/object_detection/images//00001479.jpg\n",
      "[INFO] downloaded: ./models/research/object_detection/images//00001480.jpg\n",
      "[INFO] downloaded: ./models/research/object_detection/images//00001481.jpg\n",
      "[INFO] downloaded: ./models/research/object_detection/images//00001482.jpg\n",
      "[INFO] downloaded: ./models/research/object_detection/images//00001483.jpg\n",
      "[INFO] error downloading ./models/research/object_detection/images//00001483.jpg...skipping\n",
      "[INFO] downloaded: ./models/research/object_detection/images//00001484.jpg\n",
      "[INFO] downloaded: ./models/research/object_detection/images//00001485.jpg\n",
      "[INFO] downloaded: ./models/research/object_detection/images//00001486.jpg\n",
      "[INFO] downloaded: ./models/research/object_detection/images//00001487.jpg\n",
      "[INFO] downloaded: ./models/research/object_detection/images//00001488.jpg\n",
      "[INFO] downloaded: ./models/research/object_detection/images//00001489.jpg\n",
      "[INFO] downloaded: ./models/research/object_detection/images//00001490.jpg\n",
      "[INFO] downloaded: ./models/research/object_detection/images//00001491.jpg\n",
      "[INFO] downloaded: ./models/research/object_detection/images//00001492.jpg\n",
      "[INFO] downloaded: ./models/research/object_detection/images//00001493.jpg\n",
      "[INFO] downloaded: ./models/research/object_detection/images//00001494.jpg\n",
      "[INFO] downloaded: ./models/research/object_detection/images//00001495.jpg\n",
      "[INFO] downloaded: ./models/research/object_detection/images//00001496.jpg\n",
      "[INFO] downloaded: ./models/research/object_detection/images//00001497.jpg\n",
      "[INFO] downloaded: ./models/research/object_detection/images//00001498.jpg\n",
      "[INFO] downloaded: ./models/research/object_detection/images//00001499.jpg\n",
      "[INFO] downloaded: ./models/research/object_detection/images//00001500.jpg\n",
      "[INFO] downloaded: ./models/research/object_detection/images//00001501.jpg\n",
      "[INFO] downloaded: ./models/research/object_detection/images//00001502.jpg\n",
      "[INFO] downloaded: ./models/research/object_detection/images//00001503.jpg\n",
      "[INFO] downloaded: ./models/research/object_detection/images//00001504.jpg\n",
      "[INFO] downloaded: ./models/research/object_detection/images//00001505.jpg\n",
      "[INFO] downloaded: ./models/research/object_detection/images//00001506.jpg\n",
      "[INFO] downloaded: ./models/research/object_detection/images//00001507.jpg\n",
      "[INFO] downloaded: ./models/research/object_detection/images//00001508.jpg\n",
      "[INFO] downloaded: ./models/research/object_detection/images//00001509.jpg\n",
      "[INFO] downloaded: ./models/research/object_detection/images//00001510.jpg\n",
      "[INFO] downloaded: ./models/research/object_detection/images//00001511.jpg\n",
      "[INFO] downloaded: ./models/research/object_detection/images//00001512.jpg\n",
      "[INFO] downloaded: ./models/research/object_detection/images//00001513.jpg\n",
      "[INFO] downloaded: ./models/research/object_detection/images//00001514.jpg\n",
      "[INFO] downloaded: ./models/research/object_detection/images//00001515.jpg\n",
      "[INFO] downloaded: ./models/research/object_detection/images//00001516.jpg\n",
      "[INFO] downloaded: ./models/research/object_detection/images//00001517.jpg\n",
      "[INFO] downloaded: ./models/research/object_detection/images//00001518.jpg\n",
      "[INFO] downloaded: ./models/research/object_detection/images//00001519.jpg\n",
      "[INFO] downloaded: ./models/research/object_detection/images//00001520.jpg\n",
      "[INFO] downloaded: ./models/research/object_detection/images//00001521.jpg\n",
      "[INFO] downloaded: ./models/research/object_detection/images//00001522.jpg\n",
      "[INFO] downloaded: ./models/research/object_detection/images//00001523.jpg\n",
      "[INFO] downloaded: ./models/research/object_detection/images//00001524.jpg\n"
     ]
    },
    {
     "name": "stdout",
     "output_type": "stream",
     "text": [
      "[INFO] downloaded: ./models/research/object_detection/images//00001525.jpg\n",
      "[INFO] downloaded: ./models/research/object_detection/images//00001526.jpg\n",
      "[INFO] downloaded: ./models/research/object_detection/images//00001527.jpg\n",
      "[INFO] downloaded: ./models/research/object_detection/images//00001528.jpg\n",
      "[INFO] downloaded: ./models/research/object_detection/images//00001529.jpg\n",
      "[INFO] downloaded: ./models/research/object_detection/images//00001530.jpg\n",
      "[INFO] downloaded: ./models/research/object_detection/images//00001531.jpg\n",
      "[INFO] downloaded: ./models/research/object_detection/images//00001532.jpg\n",
      "[INFO] downloaded: ./models/research/object_detection/images//00001533.jpg\n",
      "[INFO] downloaded: ./models/research/object_detection/images//00001534.jpg\n",
      "[INFO] downloaded: ./models/research/object_detection/images//00001535.jpg\n",
      "[INFO] downloaded: ./models/research/object_detection/images//00001536.jpg\n",
      "[INFO] downloaded: ./models/research/object_detection/images//00001537.jpg\n",
      "[INFO] downloaded: ./models/research/object_detection/images//00001538.jpg\n",
      "[INFO] downloaded: ./models/research/object_detection/images//00001539.jpg\n",
      "[INFO] downloaded: ./models/research/object_detection/images//00001540.jpg\n",
      "[INFO] downloaded: ./models/research/object_detection/images//00001541.jpg\n",
      "[INFO] downloaded: ./models/research/object_detection/images//00001542.jpg\n",
      "[INFO] downloaded: ./models/research/object_detection/images//00001543.jpg\n",
      "[INFO] downloaded: ./models/research/object_detection/images//00001544.jpg\n",
      "[INFO] downloaded: ./models/research/object_detection/images//00001545.jpg\n",
      "[INFO] downloaded: ./models/research/object_detection/images//00001546.jpg\n",
      "[INFO] downloaded: ./models/research/object_detection/images//00001547.jpg\n",
      "[INFO] downloaded: ./models/research/object_detection/images//00001548.jpg\n",
      "[INFO] downloaded: ./models/research/object_detection/images//00001549.jpg\n",
      "[INFO] downloaded: ./models/research/object_detection/images//00001550.jpg\n",
      "[INFO] downloaded: ./models/research/object_detection/images//00001551.jpg\n",
      "[INFO] downloaded: ./models/research/object_detection/images//00001552.jpg\n",
      "[INFO] downloaded: ./models/research/object_detection/images//00001553.jpg\n",
      "[INFO] error downloading ./models/research/object_detection/images//00001553.jpg...skipping\n",
      "[INFO] downloaded: ./models/research/object_detection/images//00001554.jpg\n",
      "[INFO] downloaded: ./models/research/object_detection/images//00001555.jpg\n",
      "[INFO] downloaded: ./models/research/object_detection/images//00001556.jpg\n",
      "[INFO] downloaded: ./models/research/object_detection/images//00001557.jpg\n",
      "[INFO] downloaded: ./models/research/object_detection/images//00001558.jpg\n",
      "[INFO] downloaded: ./models/research/object_detection/images//00001559.jpg\n",
      "[INFO] downloaded: ./models/research/object_detection/images//00001560.jpg\n",
      "[INFO] downloaded: ./models/research/object_detection/images//00001561.jpg\n",
      "[INFO] downloaded: ./models/research/object_detection/images//00001562.jpg\n",
      "[INFO] downloaded: ./models/research/object_detection/images//00001563.jpg\n",
      "[INFO] downloaded: ./models/research/object_detection/images//00001564.jpg\n",
      "[INFO] downloaded: ./models/research/object_detection/images//00001565.jpg\n",
      "[INFO] downloaded: ./models/research/object_detection/images//00001566.jpg\n",
      "[INFO] downloaded: ./models/research/object_detection/images//00001567.jpg\n",
      "[INFO] downloaded: ./models/research/object_detection/images//00001568.jpg\n",
      "[INFO] error downloading ./models/research/object_detection/images//00001568.jpg...skipping\n",
      "[INFO] downloaded: ./models/research/object_detection/images//00001569.jpg\n",
      "[INFO] downloaded: ./models/research/object_detection/images//00001570.jpg\n",
      "[INFO] downloaded: ./models/research/object_detection/images//00001571.jpg\n",
      "[INFO] downloaded: ./models/research/object_detection/images//00001572.jpg\n",
      "[INFO] downloaded: ./models/research/object_detection/images//00001573.jpg\n",
      "[INFO] downloaded: ./models/research/object_detection/images//00001574.jpg\n",
      "[INFO] downloaded: ./models/research/object_detection/images//00001575.jpg\n",
      "[INFO] downloaded: ./models/research/object_detection/images//00001576.jpg\n",
      "[INFO] downloaded: ./models/research/object_detection/images//00001577.jpg\n",
      "[INFO] downloaded: ./models/research/object_detection/images//00001578.jpg\n",
      "[INFO] downloaded: ./models/research/object_detection/images//00001579.jpg\n",
      "[INFO] downloaded: ./models/research/object_detection/images//00001580.jpg\n",
      "[INFO] downloaded: ./models/research/object_detection/images//00001581.jpg\n",
      "[INFO] downloaded: ./models/research/object_detection/images//00001582.jpg\n",
      "[INFO] downloaded: ./models/research/object_detection/images//00001583.jpg\n",
      "[INFO] downloaded: ./models/research/object_detection/images//00001584.jpg\n",
      "[INFO] downloaded: ./models/research/object_detection/images//00001585.jpg\n",
      "[INFO] downloaded: ./models/research/object_detection/images//00001586.jpg\n",
      "[INFO] downloaded: ./models/research/object_detection/images//00001587.jpg\n",
      "[INFO] downloaded: ./models/research/object_detection/images//00001588.jpg\n",
      "[INFO] downloaded: ./models/research/object_detection/images//00001589.jpg\n",
      "[INFO] downloaded: ./models/research/object_detection/images//00001590.jpg\n",
      "[INFO] downloaded: ./models/research/object_detection/images//00001591.jpg\n",
      "[INFO] downloaded: ./models/research/object_detection/images//00001592.jpg\n",
      "downloaded a total of 1593 photos\n"
     ]
    }
   ],
   "source": [
    "photo_downloader(num_photos=num_photos)"
   ]
  },
  {
   "cell_type": "markdown",
   "metadata": {},
   "source": [
    "# Repeat for any other images you want"
   ]
  },
  {
   "cell_type": "markdown",
   "metadata": {},
   "source": [
    "## Label Images"
   ]
  },
  {
   "cell_type": "markdown",
   "metadata": {},
   "source": [
    "Using whichever labeling program you prefer, draw a box around each object you want to detect in each photo. There is no limit on objects, just be consitent with your labeling and don't label every little thing"
   ]
  },
  {
   "cell_type": "markdown",
   "metadata": {},
   "source": [
    "## After Labeling is Finished"
   ]
  },
  {
   "cell_type": "code",
   "execution_count": 4,
   "metadata": {},
   "outputs": [
    {
     "name": "stdout",
     "output_type": "stream",
     "text": [
      "mkdir: cannot create directory './models/research/object_detection/images/test': File exists\n",
      "mkdir: cannot create directory './models/research/object_detection/images/train': File exists\n"
     ]
    }
   ],
   "source": [
    "!mkdir ./models/research/object_detection/images/test\n",
    "!mkdir ./models/research/object_detection/images/train"
   ]
  },
  {
   "cell_type": "code",
   "execution_count": 7,
   "metadata": {
    "collapsed": true
   },
   "outputs": [],
   "source": [
    "train_path = \"./models/research/object_detection/images/train/\"\n",
    "test_path = \"./models/research/object_detection/images/test/\"\n",
    "images_path = \"./models/research/object_detection/images/\"\n",
    "labels_path = \"./models/research/object_detection/images/annotations/\"\n",
    "listing = os.listdir(images_path)\n",
    "labels = os.listdir(labels_path)"
   ]
  },
  {
   "cell_type": "code",
   "execution_count": 8,
   "metadata": {
    "collapsed": true
   },
   "outputs": [],
   "source": [
    "test_split = 0.3"
   ]
  },
  {
   "cell_type": "code",
   "execution_count": 9,
   "metadata": {
    "collapsed": true
   },
   "outputs": [],
   "source": [
    "photo_dict = pd.DataFrame({\"photo\" : listing})"
   ]
  },
  {
   "cell_type": "code",
   "execution_count": 10,
   "metadata": {
    "collapsed": true
   },
   "outputs": [],
   "source": [
    "image_train, image_test = train_test_split(photo_dict,test_size=test_split, random_state=42)"
   ]
  },
  {
   "cell_type": "code",
   "execution_count": 11,
   "metadata": {
    "collapsed": true
   },
   "outputs": [],
   "source": [
    "train_name = [_[:-4] for _ in image_train['photo']]\n",
    "test_name = [_[:-4] for _ in image_test['photo']]"
   ]
  },
  {
   "cell_type": "code",
   "execution_count": 12,
   "metadata": {},
   "outputs": [],
   "source": [
    "for _ in labels:\n",
    "    if _[:-4] in train_name:\n",
    "        shutil.move(\"{}{}\".format(labels_path,_),\"{}{}\".format(train_path,_))\n",
    "    elif _[:-4] in test_name :\n",
    "        shutil.move(\"{}{}\".format(labels_path,_),\"{}{}\".format(test_path,_))"
   ]
  },
  {
   "cell_type": "code",
   "execution_count": 13,
   "metadata": {
    "collapsed": true
   },
   "outputs": [],
   "source": [
    "for _ in image_train['photo'].values:\n",
    "    if _[-4:] == '.jpg':\n",
    "        shutil.move(\"{}{}\".format(images_path,_),\"{}{}\".format(train_path,_))\n"
   ]
  },
  {
   "cell_type": "code",
   "execution_count": 14,
   "metadata": {
    "collapsed": true
   },
   "outputs": [],
   "source": [
    "for _ in image_test['photo'].values:\n",
    "    try:\n",
    "        if _[-4:] == '.jpg':\n",
    "            shutil.move(\"{}{}\".format(images_path,_),\"{}{}\".format(test_path,_))\n",
    "    except:\n",
    "        pass \n"
   ]
  },
  {
   "cell_type": "code",
   "execution_count": 4,
   "metadata": {},
   "outputs": [],
   "source": [
    "#remove xml files if editing\n",
    "for file in os.listdir(train_path):\n",
    "    if '.xml' in file:\n",
    "        os.remove(path=\"{}{}\".format(train_path,file))"
   ]
  },
  {
   "cell_type": "code",
   "execution_count": 5,
   "metadata": {
    "collapsed": true
   },
   "outputs": [],
   "source": [
    "#remove xml files if editing\n",
    "for file in os.listdir(test_path):\n",
    "    if '.xml' in file:\n",
    "        os.remove(path=\"{}{}\".format(test_path,file))"
   ]
  },
  {
   "cell_type": "code",
   "execution_count": null,
   "metadata": {
    "collapsed": true
   },
   "outputs": [],
   "source": []
  },
  {
   "cell_type": "markdown",
   "metadata": {},
   "source": [
    "# The next steps are in part 2"
   ]
  }
 ],
 "metadata": {
  "kernelspec": {
   "display_name": "Python 3",
   "language": "python",
   "name": "python3"
  },
  "language_info": {
   "codemirror_mode": {
    "name": "ipython",
    "version": 3
   },
   "file_extension": ".py",
   "mimetype": "text/x-python",
   "name": "python",
   "nbconvert_exporter": "python",
   "pygments_lexer": "ipython3",
   "version": "3.5.2"
  }
 },
 "nbformat": 4,
 "nbformat_minor": 2
}
