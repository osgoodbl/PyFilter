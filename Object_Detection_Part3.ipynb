{
 "cells": [
  {
   "cell_type": "code",
   "execution_count": 1,
   "metadata": {},
   "outputs": [],
   "source": [
    "import tensorflow\n",
    "import pandas as pd\n",
    "import numpy as np\n",
    "import wget\n",
    "import shutil\n"
   ]
  },
  {
   "cell_type": "code",
   "execution_count": 21,
   "metadata": {
    "scrolled": true
   },
   "outputs": [
    {
     "name": "stdout",
     "output_type": "stream",
     "text": [
      "--2018-07-06 14:19:03--  http://download.tensorflow.org/models/object_detection/ssd_mobilenet_v1_coco_2018_01_28.tar.gz\n",
      "Resolving download.tensorflow.org (download.tensorflow.org)... 172.217.3.176\n",
      "Connecting to download.tensorflow.org (download.tensorflow.org)|172.217.3.176|:80... connected.\n",
      "HTTP request sent, awaiting response... 200 OK\n",
      "Length: 76541073 (73M) [application/x-tar]\n",
      "Saving to: ‘./models/research/object_detection/ssd_mobilenet_v1_coco_2018_01_28.tar.gz’\n",
      "\n",
      "ssd_mobilenet_v1_co 100%[===================>]  73.00M  2.80MB/s    in 41s     \n",
      "\n",
      "2018-07-06 14:19:45 (1.76 MB/s) - ‘./models/research/object_detection/ssd_mobilenet_v1_coco_2018_01_28.tar.gz’ saved [76541073/76541073]\n",
      "\n"
     ]
    }
   ],
   "source": [
    "#using command line to download a saved checkpoint\n",
    "!wget http://download.tensorflow.org/models/object_detection/ssd_mobilenet_v1_coco_2018_01_28.tar.gz -P ./models/research/object_detection/"
   ]
  },
  {
   "cell_type": "code",
   "execution_count": 23,
   "metadata": {},
   "outputs": [
    {
     "name": "stdout",
     "output_type": "stream",
     "text": [
      "x ssd_mobilenet_v1_coco_2018_01_28/\n",
      "x ssd_mobilenet_v1_coco_2018_01_28/model.ckpt.index\n",
      "x ssd_mobilenet_v1_coco_2018_01_28/checkpoint\n",
      "x ssd_mobilenet_v1_coco_2018_01_28/pipeline.config\n",
      "x ssd_mobilenet_v1_coco_2018_01_28/model.ckpt.data-00000-of-00001\n",
      "x ssd_mobilenet_v1_coco_2018_01_28/model.ckpt.meta\n",
      "x ssd_mobilenet_v1_coco_2018_01_28/saved_model/\n",
      "x ssd_mobilenet_v1_coco_2018_01_28/saved_model/saved_model.pb\n",
      "x ssd_mobilenet_v1_coco_2018_01_28/saved_model/variables/\n",
      "x ssd_mobilenet_v1_coco_2018_01_28/frozen_inference_graph.pb\n"
     ]
    }
   ],
   "source": [
    "#using command line to unzip .tar file\n",
    "!tar -xzvf ./models/research/object_detection/*.tar.gz -C./models/research/object_detection/"
   ]
  },
  {
   "cell_type": "code",
   "execution_count": 25,
   "metadata": {},
   "outputs": [],
   "source": [
    "!rm ./models/research/object_detection/ssd_mobilenet_v1_coco_2018_01_28.tar.gz"
   ]
  },
  {
   "cell_type": "code",
   "execution_count": 2,
   "metadata": {},
   "outputs": [],
   "source": [
    "data_folder = \"./models/research/object_detection/data/\""
   ]
  },
  {
   "cell_type": "code",
   "execution_count": 3,
   "metadata": {},
   "outputs": [
    {
     "ename": "Error",
     "evalue": "Destination path './models/research/object_detection/data/ssd_mobilenet_v1_coco.config' already exists",
     "output_type": "error",
     "traceback": [
      "\u001b[0;31m---------------------------------------------------------------------------\u001b[0m",
      "\u001b[0;31mError\u001b[0m                                     Traceback (most recent call last)",
      "\u001b[0;32m<ipython-input-3-a213a3a6cf29>\u001b[0m in \u001b[0;36m<module>\u001b[0;34m()\u001b[0m\n\u001b[0;32m----> 1\u001b[0;31m \u001b[0mshutil\u001b[0m\u001b[0;34m.\u001b[0m\u001b[0mmove\u001b[0m\u001b[0;34m(\u001b[0m\u001b[0;34m\"./models/research/object_detection/samples/configs/ssd_mobilenet_v1_coco.config\"\u001b[0m\u001b[0;34m,\u001b[0m\u001b[0mdata_folder\u001b[0m\u001b[0;34m)\u001b[0m\u001b[0;34m\u001b[0m\u001b[0m\n\u001b[0m",
      "\u001b[0;32m~/.virtualenvs/huracan/lib/python3.6/shutil.py\u001b[0m in \u001b[0;36mmove\u001b[0;34m(src, dst, copy_function)\u001b[0m\n\u001b[1;32m    540\u001b[0m         \u001b[0mreal_dst\u001b[0m \u001b[0;34m=\u001b[0m \u001b[0mos\u001b[0m\u001b[0;34m.\u001b[0m\u001b[0mpath\u001b[0m\u001b[0;34m.\u001b[0m\u001b[0mjoin\u001b[0m\u001b[0;34m(\u001b[0m\u001b[0mdst\u001b[0m\u001b[0;34m,\u001b[0m \u001b[0m_basename\u001b[0m\u001b[0;34m(\u001b[0m\u001b[0msrc\u001b[0m\u001b[0;34m)\u001b[0m\u001b[0;34m)\u001b[0m\u001b[0;34m\u001b[0m\u001b[0m\n\u001b[1;32m    541\u001b[0m         \u001b[0;32mif\u001b[0m \u001b[0mos\u001b[0m\u001b[0;34m.\u001b[0m\u001b[0mpath\u001b[0m\u001b[0;34m.\u001b[0m\u001b[0mexists\u001b[0m\u001b[0;34m(\u001b[0m\u001b[0mreal_dst\u001b[0m\u001b[0;34m)\u001b[0m\u001b[0;34m:\u001b[0m\u001b[0;34m\u001b[0m\u001b[0m\n\u001b[0;32m--> 542\u001b[0;31m             \u001b[0;32mraise\u001b[0m \u001b[0mError\u001b[0m\u001b[0;34m(\u001b[0m\u001b[0;34m\"Destination path '%s' already exists\"\u001b[0m \u001b[0;34m%\u001b[0m \u001b[0mreal_dst\u001b[0m\u001b[0;34m)\u001b[0m\u001b[0;34m\u001b[0m\u001b[0m\n\u001b[0m\u001b[1;32m    543\u001b[0m     \u001b[0;32mtry\u001b[0m\u001b[0;34m:\u001b[0m\u001b[0;34m\u001b[0m\u001b[0m\n\u001b[1;32m    544\u001b[0m         \u001b[0mos\u001b[0m\u001b[0;34m.\u001b[0m\u001b[0mrename\u001b[0m\u001b[0;34m(\u001b[0m\u001b[0msrc\u001b[0m\u001b[0;34m,\u001b[0m \u001b[0mreal_dst\u001b[0m\u001b[0;34m)\u001b[0m\u001b[0;34m\u001b[0m\u001b[0m\n",
      "\u001b[0;31mError\u001b[0m: Destination path './models/research/object_detection/data/ssd_mobilenet_v1_coco.config' already exists"
     ]
    }
   ],
   "source": [
    "shutil.move(\"./models/research/object_detection/samples/configs/ssd_mobilenet_v1_coco.config\",data_folder)"
   ]
  },
  {
   "cell_type": "code",
   "execution_count": null,
   "metadata": {},
   "outputs": [],
   "source": [
    "item {\n",
    "  id: 1\n",
    "  name: 'huracan'\n",
    "}\n",
    "item {\n",
    "  id: 2\n",
    "  name: 'gallardo'\n",
    "}\n",
    "item {\n",
    "  id: 3\n",
    "  name: 'aventador'\n",
    "}\n",
    "item {\n",
    "  id: 4\n",
    "  name: 'murcielago'\n",
    "}"
   ]
  },
  {
   "cell_type": "markdown",
   "metadata": {},
   "source": [
    "## We need to create a .pbtxt file with our new classes, easiest is to edit the existing .pbtxt file in *object_detection/data*"
   ]
  },
  {
   "cell_type": "markdown",
   "metadata": {},
   "source": [
    "# Finally, we need to edit the config file that we just moved"
   ]
  },
  {
   "cell_type": "markdown",
   "metadata": {},
   "source": [
    "* on line 9 change num_classes from 90 to however many you have (I have 4 right now)\n",
    "* on line 141 I changed batch size from 24 to 12\n",
    "* on line 158 change \"PATH_TO_BE_CONFIGURED\" to the path and then the name of your model e.g.\"ssd_mobilenet_v1_coco_2018_01_28/model.ckpt\"\n",
    "* on line 177 change \"PATH_TO_BE_CONFIGURED\" to the path and then the name of your train.record e.g \"data/train.record\"\n",
    "* on line 179 change \"PATH_TO_BE_CONFIGURED\" to the path and then the name of your pbtxt file e.g \"data/lambo_detection.pbtxt\"\n",
    "* on line 190 change \"PATH_TO_BE_CONFIGURED\" to the path and then the name of your train.record e.g \"data/test.record\"\n",
    "* on line 192 change \"PATH_TO_BE_CONFIGURED\" to the path and then the name of your pbtxt file e.g \"data/lambo_detection.pbtxt\""
   ]
  },
  {
   "cell_type": "markdown",
   "metadata": {},
   "source": [
    "# We should be good to go!"
   ]
  },
  {
   "cell_type": "markdown",
   "metadata": {},
   "source": [
    "# Copy and paste these into your terminal once you navigate to research\n",
    "\n",
    "protoc object_detection/protos/*.proto --python_out=.\n",
    "\n",
    "export PYTHONPATH=$PYTHONPATH:`pwd`:`pwd`/slim\n",
    "\n",
    "cd ./object_detection/\n",
    "\n",
    "python3 train.py --logtostderr --train_dir=data/ --pipeline_config_path=data/ssd_mobilenet_v1_coco.config\n"
   ]
  },
  {
   "cell_type": "markdown",
   "metadata": {},
   "source": [
    "# After the model is finished, copy and paste the following into your terminal from the object_detection directory. Don't forget to run the protoc and export commands from above"
   ]
  },
  {
   "cell_type": "markdown",
   "metadata": {},
   "source": [
    "python3 export_inference_graph.py --input_type image_tensor --pipeline_config_path data/ssd_mobilenet_v1_coco.config --trained_checkpoint_prefix data/model.ckpt-15157 --output_directory object_detection_graph"
   ]
  },
  {
   "cell_type": "code",
   "execution_count": null,
   "metadata": {},
   "outputs": [],
   "source": []
  },
  {
   "cell_type": "code",
   "execution_count": null,
   "metadata": {},
   "outputs": [],
   "source": []
  },
  {
   "cell_type": "code",
   "execution_count": null,
   "metadata": {},
   "outputs": [],
   "source": []
  }
 ],
 "metadata": {
  "kernelspec": {
   "display_name": "Python 3",
   "language": "python",
   "name": "python3"
  },
  "language_info": {
   "codemirror_mode": {
    "name": "ipython",
    "version": 3
   },
   "file_extension": ".py",
   "mimetype": "text/x-python",
   "name": "python",
   "nbconvert_exporter": "python",
   "pygments_lexer": "ipython3",
   "version": "3.6.5"
  }
 },
 "nbformat": 4,
 "nbformat_minor": 2
}
