{
 "cells": [
  {
   "cell_type": "code",
   "execution_count": 2,
   "metadata": {
    "collapsed": true
   },
   "outputs": [],
   "source": [
    "import tensorflow\n",
    "import pandas as pd\n",
    "import numpy as np\n",
    "import wget\n",
    "import shutil"
   ]
  },
  {
   "cell_type": "code",
   "execution_count": 16,
   "metadata": {
    "scrolled": false
   },
   "outputs": [
    {
     "name": "stdout",
     "output_type": "stream",
     "text": [
      "--2018-07-20 20:30:40--  http://download.tensorflow.org/models/object_detection/ssd_mobilenet_v2_coco_2018_03_29.tar.gz\n",
      "Resolving download.tensorflow.org (download.tensorflow.org)... 172.217.0.48, 2607:f8b0:4005:802::2010\n",
      "Connecting to download.tensorflow.org (download.tensorflow.org)|172.217.0.48|:80... connected.\n",
      "HTTP request sent, awaiting response... 200 OK\n",
      "Length: 187925923 (179M) [application/x-tar]\n",
      "Saving to: './models/research/object_detection/ssd_mobilenet_v2_coco_2018_03_29.tar.gz'\n",
      "\n",
      "ssd_mobilenet_v2_co 100%[===================>] 179.22M  83.7MB/s    in 2.1s    \n",
      "\n",
      "2018-07-20 20:30:43 (83.7 MB/s) - './models/research/object_detection/ssd_mobilenet_v2_coco_2018_03_29.tar.gz' saved [187925923/187925923]\n",
      "\n"
     ]
    }
   ],
   "source": [
    "#using command line to download a saved checkpoint\n",
    "!wget http://download.tensorflow.org/models/object_detection/ssd_mobilenet_v2_coco_2018_03_29.tar.gz -P ./models/research/object_detection/"
   ]
  },
  {
   "cell_type": "code",
   "execution_count": 17,
   "metadata": {},
   "outputs": [
    {
     "name": "stdout",
     "output_type": "stream",
     "text": [
      "ssd_mobilenet_v2_coco_2018_03_29/checkpoint\n",
      "ssd_mobilenet_v2_coco_2018_03_29/model.ckpt.meta\n",
      "ssd_mobilenet_v2_coco_2018_03_29/pipeline.config\n",
      "ssd_mobilenet_v2_coco_2018_03_29/saved_model/saved_model.pb\n",
      "ssd_mobilenet_v2_coco_2018_03_29/frozen_inference_graph.pb\n",
      "ssd_mobilenet_v2_coco_2018_03_29/saved_model/\n",
      "ssd_mobilenet_v2_coco_2018_03_29/saved_model/variables/\n",
      "ssd_mobilenet_v2_coco_2018_03_29/model.ckpt.index\n",
      "ssd_mobilenet_v2_coco_2018_03_29/\n",
      "ssd_mobilenet_v2_coco_2018_03_29/model.ckpt.data-00000-of-00001\n"
     ]
    }
   ],
   "source": [
    "#using command line to unzip .tar file\n",
    "!tar -xzvf ./models/research/object_detection/*.tar.gz -C./models/research/object_detection/"
   ]
  },
  {
   "cell_type": "code",
   "execution_count": 19,
   "metadata": {
    "collapsed": true
   },
   "outputs": [],
   "source": [
    "!rm ./models/research/object_detection/ssd_mobilenet_v2_coco_2018_03_29.tar.gz"
   ]
  },
  {
   "cell_type": "code",
   "execution_count": 21,
   "metadata": {
    "collapsed": true
   },
   "outputs": [],
   "source": [
    "data_folder = \"./models/research/object_detection/data_1/\""
   ]
  },
  {
   "cell_type": "code",
   "execution_count": 22,
   "metadata": {},
   "outputs": [
    {
     "data": {
      "text/plain": [
       "'./models/research/object_detection/data_1/ssd_mobilenet_v2_coco.config'"
      ]
     },
     "execution_count": 22,
     "metadata": {},
     "output_type": "execute_result"
    }
   ],
   "source": [
    "shutil.move(\"./models/research/object_detection/samples/configs/ssd_mobilenet_v2_coco.config\",data_folder)"
   ]
  },
  {
   "cell_type": "code",
   "execution_count": null,
   "metadata": {
    "collapsed": true
   },
   "outputs": [],
   "source": [
    "item {\n",
    "  id: 1\n",
    "  name: 'huracan'\n",
    "}\n",
    "item {\n",
    "  id: 2\n",
    "  name: 'gallardo'\n",
    "}\n",
    "item {\n",
    "  id: 3\n",
    "  name: 'aventador'\n",
    "}\n",
    "item {\n",
    "  id: 4\n",
    "  name: 'murcielago'\n",
    "}\n",
    "item {\n",
    "    id: 5\n",
    "    name: 'urus'\n",
    "}\n",
    "item {\n",
    "    id: 6\n",
    "    name: 'not a lambo'\n",
    "}"
   ]
  },
  {
   "cell_type": "markdown",
   "metadata": {},
   "source": [
    "## We need to create a .pbtxt file with our new classes, easiest is to edit the existing .pbtxt file in *object_detection/data*"
   ]
  },
  {
   "cell_type": "markdown",
   "metadata": {},
   "source": [
    "# Finally, we need to edit the config file that we just moved"
   ]
  },
  {
   "cell_type": "markdown",
   "metadata": {},
   "source": [
    "* on line 9 change num_classes from 90 to however many you have (I have 4 right now)\n",
    "* on line 141 I changed batch size from 24 to 12\n",
    "* on line 158 change \"PATH_TO_BE_CONFIGURED\" to the path and then the name of your model e.g.\"ssd_mobilenet_v1_coco_2018_01_28/model.ckpt\"\n",
    "* on line 177 change \"PATH_TO_BE_CONFIGURED\" to the path and then the name of your train.record e.g \"data/train.record\"\n",
    "* on line 179 change \"PATH_TO_BE_CONFIGURED\" to the path and then the name of your pbtxt file e.g \"data/lambo_detection.pbtxt\"\n",
    "* on line 190 change \"PATH_TO_BE_CONFIGURED\" to the path and then the name of your train.record e.g \"data/test.record\"\n",
    "* on line 192 change \"PATH_TO_BE_CONFIGURED\" to the path and then the name of your pbtxt file e.g \"data/lambo_detection.pbtxt\""
   ]
  },
  {
   "cell_type": "markdown",
   "metadata": {},
   "source": [
    "# We should be good to go!"
   ]
  },
  {
   "cell_type": "markdown",
   "metadata": {},
   "source": [
    "pip3 install --ignore-installed --upgrade https://github.com/lakshayg/tensorflow-build/releases/download/tf1.9.0-ubuntu16.04-py27-py35/tensorflow-1.9.0-cp35-cp35m-linux_x86_64.whl"
   ]
  },
  {
   "cell_type": "markdown",
   "metadata": {},
   "source": [
    "# Copy and paste these into your terminal once you navigate to research\n",
    "\n",
    "protoc object_detection/protos/*.proto --python_out=.\n",
    "\n",
    "export PYTHONPATH=$PYTHONPATH:`pwd`:`pwd`/slim\n",
    "\n",
    "cd ./object_detection/\n",
    "\n",
    "python3 train.py --logtostderr --train_dir=data_1/ --pipeline_config_path=data_1/ssd_mobilenet_v2_coco.config\n"
   ]
  },
  {
   "cell_type": "markdown",
   "metadata": {
    "collapsed": true
   },
   "source": [
    "* New Terminal\n",
    "\n",
    "python3 eval.py --logtostderr --pipeline_config_path=data_1/ssd_mobilenet_v2_coco.config --checkpoint_dir=data_1/ --eval_dir=eval_1/"
   ]
  },
  {
   "cell_type": "markdown",
   "metadata": {},
   "source": [
    "* New Terminal\n",
    "\n",
    "tensorboard --logdir=/data_1/, /eval_1/"
   ]
  },
  {
   "cell_type": "markdown",
   "metadata": {
    "collapsed": true
   },
   "source": [
    "ssh -L 16006:127.0.0.1:6006 science@206.189.219.24"
   ]
  },
  {
   "cell_type": "markdown",
   "metadata": {},
   "source": [
    "http://localhost:16006/"
   ]
  },
  {
   "cell_type": "markdown",
   "metadata": {},
   "source": [
    "# After the model is finished, copy and paste the following into your terminal from the object_detection directory. Don't forget to run the protoc and export commands from above"
   ]
  },
  {
   "cell_type": "markdown",
   "metadata": {},
   "source": [
    "python3 export_inference_graph.py --input_type image_tensor --pipeline_config_path data_1/ssd_mobilenet_v2_coco.config --trained_checkpoint_prefix data_1/model.ckpt-28737 --output_directory object_detection_graph_28737"
   ]
  },
  {
   "cell_type": "code",
   "execution_count": null,
   "metadata": {
    "collapsed": true
   },
   "outputs": [],
   "source": []
  }
 ],
 "metadata": {
  "kernelspec": {
   "display_name": "Python 3",
   "language": "python",
   "name": "python3"
  },
  "language_info": {
   "codemirror_mode": {
    "name": "ipython",
    "version": 3
   },
   "file_extension": ".py",
   "mimetype": "text/x-python",
   "name": "python",
   "nbconvert_exporter": "python",
   "pygments_lexer": "ipython3",
   "version": "3.5.2"
  }
 },
 "nbformat": 4,
 "nbformat_minor": 2
}
